{
 "cells": [
  {
   "cell_type": "markdown",
   "metadata": {},
   "source": [
    "# Validate Against Shacl Graph"
   ]
  },
  {
   "cell_type": "code",
   "execution_count": 14,
   "metadata": {},
   "outputs": [],
   "source": [
    "from rdflib import Graph\n",
    "from pyshacl import validate"
   ]
  },
  {
   "cell_type": "markdown",
   "metadata": {},
   "source": [
    "## Data, Shape and Ontology Graphs"
   ]
  },
  {
   "cell_type": "code",
   "execution_count": 15,
   "metadata": {},
   "outputs": [],
   "source": [
    "data = \"../examples/proposal_decision.ttl\"\n",
    "shapes = \"../paf-link.shacl\"\n",
    "ontology = \"../paf-link.ttl\""
   ]
  },
  {
   "cell_type": "markdown",
   "metadata": {},
   "source": [
    "## Validate"
   ]
  },
  {
   "cell_type": "code",
   "execution_count": 16,
   "metadata": {},
   "outputs": [
    {
     "name": "stdout",
     "output_type": "stream",
     "text": [
      "Conforms:  True\n",
      "Text:  Validation Report\n",
      "Conforms: True\n",
      "\n"
     ]
    }
   ],
   "source": [
    "conforms, results_graph, results_text = validate(data_graph = data,\n",
    "      shacl_graph = shapes,\n",
    "      ont_graph = ontology,\n",
    "      inference='rdfs')\n",
    "print(\"Conforms: \", conforms)\n",
    "print(\"Text: \", results_text)"
   ]
  }
 ],
 "metadata": {
  "kernelspec": {
   "display_name": "LD",
   "language": "python",
   "name": "python3"
  },
  "language_info": {
   "codemirror_mode": {
    "name": "ipython",
    "version": 3
   },
   "file_extension": ".py",
   "mimetype": "text/x-python",
   "name": "python",
   "nbconvert_exporter": "python",
   "pygments_lexer": "ipython3",
   "version": "3.9.19"
  }
 },
 "nbformat": 4,
 "nbformat_minor": 2
}
