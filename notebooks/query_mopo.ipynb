{
 "cells": [
  {
   "cell_type": "markdown",
   "metadata": {},
   "source": [
    "# Querying chpaf MoPo"
   ]
  },
  {
   "cell_type": "code",
   "execution_count": null,
   "metadata": {},
   "outputs": [],
   "source": [
    "import rdflib\n",
    "import pandas as pd\n",
    "\n",
    "# Set pandas to display wide columns\n",
    "pd.set_option('max_colwidth', 1000)\n",
    "\n",
    "g = rdflib.Graph()\n",
    "g.parse(\"../examples/mopo.ttl\")"
   ]
  },
  {
   "cell_type": "markdown",
   "metadata": {},
   "source": [
    "## Rejected MoPo"
   ]
  },
  {
   "cell_type": "code",
   "execution_count": null,
   "metadata": {},
   "outputs": [],
   "source": [
    "query_string = \"\"\"\n",
    "\n",
    "PREFIX paf: <https://paf.link/>\n",
    "PREFIX chpaf: <https://ch.paf.link/>\n",
    "PREFIX prov: <http://www.w3.org/ns/prov#>\n",
    "PREFIX schema: <http://schema.org/>\n",
    "PREFIX rdf: <http://www.w3.org/1999/02/22-rdf-syntax-ns#>\n",
    "PREFIX dcterm: <http://purl.org/dc/terms/>\n",
    "PREFIX xsd: <http://www.w3.org/2001/XMLSchema#>\n",
    "\n",
    "\n",
    "SELECT * WHERE {\n",
    "\n",
    "    ?decision_entity a paf:DecisionEntity;\n",
    "        paf:acceptance paf:Rejected.\n",
    "\n",
    "} \n",
    "\n",
    "\"\"\"\n",
    "\n",
    "qres = g.query(query_string)\n",
    "\n",
    "df = pd.DataFrame(qres, columns=qres.vars)\n",
    "df"
   ]
  },
  {
   "cell_type": "markdown",
   "metadata": {},
   "source": [
    "## Chapter 1"
   ]
  },
  {
   "cell_type": "code",
   "execution_count": null,
   "metadata": {},
   "outputs": [],
   "source": [
    "query_string = \"\"\"\n",
    "\n",
    "PREFIX paf: <https://paf.link/>\n",
    "PREFIX chpaf: <https://ch.paf.link/>\n",
    "PREFIX prov: <http://www.w3.org/ns/prov#>\n",
    "PREFIX schema: <http://schema.org/>\n",
    "PREFIX rdf: <http://www.w3.org/1999/02/22-rdf-syntax-ns#>\n",
    "PREFIX dcterm: <http://purl.org/dc/terms/>\n",
    "PREFIX xsd: <http://www.w3.org/2001/XMLSchema#>\n",
    "\n",
    "\n",
    "SELECT ?department ?office ?id ?title ?description ?answer WHERE {\n",
    "\n",
    "    ?registration_activity a paf:RegistrationActivity.\n",
    "\n",
    "    ?identifier_entity prov:wasGeneratedBy ?registration_activity;\n",
    "        schema:identifier ?id.\n",
    "    \n",
    "    ?registration_entity prov:wasGeneratedBy ?registration_activity;\n",
    "        schema:title ?title;\n",
    "        schema:description ?description;\n",
    "        chpaf:department ?department;\n",
    "        chpaf:office ?office.\n",
    "\n",
    "    ?proposal_creation_activity prov:wasInformedBy+ ?registration_activity.\n",
    "\n",
    "    ?proposal_entity prov:wasGeneratedBy ?proposal_creation_activity;\n",
    "        chpaf:proposal ?answer.\n",
    "\n",
    "    ?proposal_activity prov:wasInformedBy ?proposal_creation_activity.\n",
    "\n",
    "    OPTIONAL {\n",
    "    \n",
    "        ?decision_activity prov:wasInformedBy ?proposal_activity;\n",
    "            prov:startedAtTime ?decision_time.\n",
    "    \n",
    "    }\n",
    "\n",
    "    FILTER (!BOUND(?decision_time) || ?decision_time >= \"2023-01-01\"^^xsd:date)\n",
    "\n",
    "\n",
    "    FILTER (lang(?title) = \"de\")\n",
    "    FILTER (lang(?description) = \"de\")\n",
    "    FILTER (lang(?answer) = \"de\")\n",
    "\n",
    "} ORDER BY ?department ?office\n",
    "\n",
    "\"\"\"\n",
    "\n",
    "qres = g.query(query_string)\n",
    "\n",
    "df = pd.DataFrame(qres, columns=qres.vars)\n",
    "df"
   ]
  },
  {
   "cell_type": "markdown",
   "metadata": {},
   "source": [
    "## Queries for Parliament-Services\n",
    "\n",
    "### Proposal"
   ]
  },
  {
   "cell_type": "code",
   "execution_count": null,
   "metadata": {},
   "outputs": [],
   "source": [
    "query_string = \"\"\"\n",
    "\n",
    "PREFIX paf: <https://paf.link/>\n",
    "PREFIX chpaf: <https://ch.paf.link/>\n",
    "PREFIX prov: <http://www.w3.org/ns/prov#>\n",
    "PREFIX schema: <http://schema.org/>\n",
    "PREFIX rdf: <http://www.w3.org/1999/02/22-rdf-syntax-ns#>\n",
    "PREFIX dcterm: <http://purl.org/dc/terms/>\n",
    "PREFIX xsd: <http://www.w3.org/2001/XMLSchema#>\n",
    "\n",
    "\n",
    "SELECT ?id ?title ?proposal_entity ?answer_de ?answer_fr ?answer_it ?decision_time WHERE {\n",
    "    ?registration_activity a paf:RegistrationActivity.\n",
    "    ?identifier_entity prov:wasGeneratedBy ?registration_activity;\n",
    "        schema:identifier ?id.\n",
    "    ?registration_entity prov:wasGeneratedBy ?registration_activity;\n",
    "        schema:title ?title. FILTER (lang(?title) = \"de\")\n",
    "    ?proposal_creation_activity prov:wasInformedBy+ ?registration_activity.\n",
    "    ?proposal_entity prov:wasGeneratedBy ?proposal_creation_activity.\n",
    "    ?proposal_entity chpaf:proposal ?answer_de. FILTER (lang(?answer_de) = \"de\")\n",
    "    ?proposal_entity chpaf:proposal ?answer_fr. FILTER (lang(?answer_fr) = \"fr\")\n",
    "    ?proposal_entity chpaf:proposal ?answer_it. FILTER (lang(?answer_it) = \"it\")\n",
    "    ?proposal_activity prov:wasInformedBy ?proposal_creation_activity.\n",
    "    OPTIONAL {\n",
    "        ?decision_activity prov:wasInformedBy ?proposal_activity;\n",
    "            prov:startedAtTime ?decision_time.\n",
    "    }\n",
    "}\n",
    "\n",
    "\"\"\"\n",
    "\n",
    "qres = g.query(query_string)\n",
    "\n",
    "df = pd.DataFrame(qres, columns=qres.vars)\n",
    "df"
   ]
  },
  {
   "cell_type": "markdown",
   "metadata": {},
   "source": [
    "### Information"
   ]
  },
  {
   "cell_type": "code",
   "execution_count": null,
   "metadata": {},
   "outputs": [],
   "source": [
    "query_string = \"\"\"\n",
    "\n",
    "PREFIX paf: <https://paf.link/>\n",
    "PREFIX chpaf: <https://ch.paf.link/>\n",
    "PREFIX prov: <http://www.w3.org/ns/prov#>\n",
    "PREFIX schema: <http://schema.org/>\n",
    "PREFIX rdf: <http://www.w3.org/1999/02/22-rdf-syntax-ns#>\n",
    "PREFIX dcterm: <http://purl.org/dc/terms/>\n",
    "PREFIX xsd: <http://www.w3.org/2001/XMLSchema#>\n",
    "\n",
    "\n",
    "SELECT ?id ?title ?information_entity ?information_de ?information_fr ?information_it WHERE {\n",
    "    ?registration_activity a paf:RegistrationActivity.\n",
    "    ?identifier_entity prov:wasGeneratedBy ?registration_activity;\n",
    "        schema:identifier ?id.\n",
    "    ?registration_entity prov:wasGeneratedBy ?registration_activity;\n",
    "        schema:title ?title. FILTER (lang(?title) = \"de\")\n",
    "    ?information_creation_activity prov:wasInformedBy+ ?registration_activity.\n",
    "    ?information_entity prov:wasGeneratedBy ?information_creation_activity.\n",
    "    ?information_entity chpaf:mopoInformation ?information_de. FILTER (lang(?information_de) = \"de\")\n",
    "    ?information_entity chpaf:mopoInformation ?information_fr. FILTER (lang(?information_fr) = \"fr\")\n",
    "    ?information_entity chpaf:mopoInformation ?information_it. FILTER (lang(?information_it) = \"it\")\n",
    "}\n",
    "\"\"\"\n",
    "\n",
    "qres = g.query(query_string)\n",
    "\n",
    "df = pd.DataFrame(qres, columns=qres.vars)\n",
    "df"
   ]
  },
  {
   "cell_type": "markdown",
   "metadata": {},
   "source": [
    "## MoPo with Changed Registration"
   ]
  },
  {
   "cell_type": "code",
   "execution_count": null,
   "metadata": {},
   "outputs": [],
   "source": [
    "query_string = \"\"\"\n",
    "\n",
    "PREFIX paf: <https://paf.link/>\n",
    "PREFIX chpaf: <https://ch.paf.link/>\n",
    "PREFIX prov: <http://www.w3.org/ns/prov#>\n",
    "PREFIX schema: <http://schema.org/>\n",
    "PREFIX rdf: <http://www.w3.org/1999/02/22-rdf-syntax-ns#>\n",
    "PREFIX dcterm: <http://purl.org/dc/terms/>\n",
    "PREFIX xsd: <http://www.w3.org/2001/XMLSchema#>\n",
    "\n",
    "\n",
    "SELECT ?new ?old WHERE {\n",
    "\n",
    "    ?new prov:wasInformedBy+ ?old;\n",
    "        a paf:RegistrationActivity.\n",
    "    \n",
    "    ?old a paf:RegistrationActivity.\n",
    "\n",
    "}\n",
    "\n",
    "\"\"\"\n",
    "\n",
    "qres = g.query(query_string)\n",
    "\n",
    "df = pd.DataFrame(qres, columns=qres.vars)\n",
    "df"
   ]
  },
  {
   "cell_type": "markdown",
   "metadata": {},
   "source": [
    "or faster if `paf:wasReplacedBy` predicate is set:"
   ]
  },
  {
   "cell_type": "code",
   "execution_count": null,
   "metadata": {},
   "outputs": [],
   "source": [
    "query_string = \"\"\"\n",
    "\n",
    "PREFIX paf: <https://paf.link/>\n",
    "PREFIX chpaf: <https://ch.paf.link/>\n",
    "PREFIX prov: <http://www.w3.org/ns/prov#>\n",
    "PREFIX schema: <http://schema.org/>\n",
    "PREFIX rdf: <http://www.w3.org/1999/02/22-rdf-syntax-ns#>\n",
    "PREFIX dcterm: <http://purl.org/dc/terms/>\n",
    "PREFIX xsd: <http://www.w3.org/2001/XMLSchema#>\n",
    "\n",
    "\n",
    "SELECT ?new ?old WHERE {\n",
    "\n",
    "    ?old prov:wasGeneratedBy/a paf:RegistrationActivity.\n",
    "\n",
    "    ?old paf:wasReplacedBy ?new.\n",
    "\n",
    "}\n",
    "\n",
    "\"\"\"\n",
    "\n",
    "qres = g.query(query_string)\n",
    "\n",
    "df = pd.DataFrame(qres, columns=qres.vars)\n",
    "df"
   ]
  },
  {
   "cell_type": "markdown",
   "metadata": {},
   "source": [
    "## All Activities for a Certain Curia Number"
   ]
  },
  {
   "cell_type": "code",
   "execution_count": null,
   "metadata": {},
   "outputs": [],
   "source": [
    "query_string = \"\"\"\n",
    "\n",
    "PREFIX paf: <https://paf.link/>\n",
    "PREFIX chpaf: <https://ch.paf.link/>\n",
    "PREFIX prov: <http://www.w3.org/ns/prov#>\n",
    "PREFIX schema: <http://schema.org/>\n",
    "PREFIX rdf: <http://www.w3.org/1999/02/22-rdf-syntax-ns#>\n",
    "PREFIX dcterm: <http://purl.org/dc/terms/>\n",
    "PREFIX xsd: <http://www.w3.org/2001/XMLSchema#>\n",
    "\n",
    "\n",
    "SELECT ?id ?activity WHERE {\n",
    "\n",
    "    BIND (\"02.3532\" as ?id)\n",
    "\n",
    "    ?identifier_entity schema:identifier ?id;\n",
    "        prov:wasGeneratedBy ?registration_activity.\n",
    "\n",
    "    ?activity prov:wasInformedBy* ?registration_activity;\n",
    "        \n",
    "\n",
    "}\n",
    "\n",
    "\"\"\"\n",
    "\n",
    "qres = g.query(query_string)\n",
    "\n",
    "df = pd.DataFrame(qres, columns=qres.vars)\n",
    "df"
   ]
  },
  {
   "cell_type": "markdown",
   "metadata": {},
   "source": [
    "## Proposal after Information"
   ]
  },
  {
   "cell_type": "code",
   "execution_count": null,
   "metadata": {},
   "outputs": [],
   "source": [
    "query_string = \"\"\"\n",
    "\n",
    "PREFIX paf: <https://paf.link/>\n",
    "PREFIX chpaf: <https://ch.paf.link/>\n",
    "PREFIX prov: <http://www.w3.org/ns/prov#>\n",
    "PREFIX schema: <http://schema.org/>\n",
    "PREFIX rdf: <http://www.w3.org/1999/02/22-rdf-syntax-ns#>\n",
    "PREFIX dcterm: <http://purl.org/dc/terms/>\n",
    "PREFIX xsd: <http://www.w3.org/2001/XMLSchema#>\n",
    "\n",
    "\n",
    "SELECT * WHERE {\n",
    "\n",
    "    ?decision_activity prov:wasInformedBy+ ?activity;\n",
    "        a paf:DecisionActivity.\n",
    "        \n",
    "    FILTER EXISTS {\n",
    "            ?activity a paf:InformationActivity.\n",
    "    }\n",
    "\n",
    "}\n",
    "\n",
    "\"\"\"\n",
    "\n",
    "qres = g.query(query_string)\n",
    "\n",
    "df = pd.DataFrame(qres, columns=qres.vars)\n",
    "df"
   ]
  },
  {
   "cell_type": "markdown",
   "metadata": {},
   "source": [
    "## Registration Info in Correct Order\n",
    "\n",
    "With the `values` keyword it can also be selected, which predicates to show."
   ]
  },
  {
   "cell_type": "code",
   "execution_count": null,
   "metadata": {},
   "outputs": [],
   "source": [
    "query_string = \"\"\"\n",
    "\n",
    "PREFIX paf: <https://paf.link/>\n",
    "PREFIX chpaf: <https://ch.paf.link/>\n",
    "PREFIX prov: <http://www.w3.org/ns/prov#>\n",
    "PREFIX schema: <http://schema.org/>\n",
    "PREFIX rdf: <http://www.w3.org/1999/02/22-rdf-syntax-ns#>\n",
    "PREFIX dcterm: <http://purl.org/dc/terms/>\n",
    "PREFIX xsd: <http://www.w3.org/2001/XMLSchema#>\n",
    "\n",
    "\n",
    "SELECT ?p ?o WHERE {\n",
    "\n",
    "    BIND (\"02.3532\" as ?id)\n",
    "\n",
    "    ?identifier_entity schema:identifier ?id;\n",
    "        prov:wasGeneratedBy ?registration_activity.\n",
    "    ?registration_entity prov:wasGeneratedBy ?registration_activity;\n",
    "\n",
    "        ?p ?o.\n",
    "        \n",
    "    values (?p ?order) { (schema:identifier 1) (schema:title 2) (schema:author 3) (schema:description 4) }\n",
    "    \n",
    "} ORDER BY ?order\n",
    "\n",
    "\"\"\"\n",
    "\n",
    "qres = g.query(query_string)\n",
    "\n",
    "df = pd.DataFrame(qres, columns=qres.vars)\n",
    "df"
   ]
  }
 ],
 "metadata": {
  "kernelspec": {
   "display_name": "LD",
   "language": "python",
   "name": "python3"
  },
  "language_info": {
   "codemirror_mode": {
    "name": "ipython",
    "version": 3
   },
   "file_extension": ".py",
   "mimetype": "text/x-python",
   "name": "python",
   "nbconvert_exporter": "python",
   "pygments_lexer": "ipython3",
   "version": "3.12.4"
  }
 },
 "nbformat": 4,
 "nbformat_minor": 2
}
