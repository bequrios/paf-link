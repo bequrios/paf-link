{
 "cells": [
  {
   "cell_type": "markdown",
   "metadata": {},
   "source": [
    "# Querying chpaf MoPo"
   ]
  },
  {
   "cell_type": "code",
   "execution_count": 1,
   "metadata": {},
   "outputs": [
    {
     "data": {
      "text/plain": [
       "<Graph identifier=Nb8cc24880a36453cae02d7c073eda02a (<class 'rdflib.graph.Graph'>)>"
      ]
     },
     "execution_count": 1,
     "metadata": {},
     "output_type": "execute_result"
    }
   ],
   "source": [
    "import rdflib\n",
    "import pandas as pd\n",
    "\n",
    "# Set pandas to display wide columns\n",
    "pd.set_option('max_colwidth', 1000)\n",
    "\n",
    "g = rdflib.Graph()\n",
    "g.parse(\"../examples/mopo_mvp.ttl\")"
   ]
  },
  {
   "cell_type": "markdown",
   "metadata": {},
   "source": [
    "## Chapter 1 - Proposal for Abandonment"
   ]
  },
  {
   "cell_type": "code",
   "execution_count": 2,
   "metadata": {},
   "outputs": [
    {
     "data": {
      "text/html": [
       "<div>\n",
       "<style scoped>\n",
       "    .dataframe tbody tr th:only-of-type {\n",
       "        vertical-align: middle;\n",
       "    }\n",
       "\n",
       "    .dataframe tbody tr th {\n",
       "        vertical-align: top;\n",
       "    }\n",
       "\n",
       "    .dataframe thead th {\n",
       "        text-align: right;\n",
       "    }\n",
       "</style>\n",
       "<table border=\"1\" class=\"dataframe\">\n",
       "  <thead>\n",
       "    <tr style=\"text-align: right;\">\n",
       "      <th></th>\n",
       "      <th>id</th>\n",
       "      <th>title</th>\n",
       "      <th>text</th>\n",
       "      <th>proposal</th>\n",
       "    </tr>\n",
       "  </thead>\n",
       "  <tbody>\n",
       "    <tr>\n",
       "      <th>0</th>\n",
       "      <td>21.4382</td>\n",
       "      <td>Eine Armee, die ihre Auswirkungen auf die Biodiversität senkt</td>\n",
       "      <td>Der Bundesrat, insbesondere das Departement für Verteidigung, Bevölkerungsschutz und Sport (VBS), wird beauftragt...</td>\n",
       "      <td>Das VBS hat seinen Aktionsplan Biodiversität am 22. Juni 2023 veröffentlicht [...] Der Bundesrat erachtet das Anliegen der Motion als erfüllt und beantragt deren Abschreibung.</td>\n",
       "    </tr>\n",
       "  </tbody>\n",
       "</table>\n",
       "</div>"
      ],
      "text/plain": [
       "        id                                                          title  \\\n",
       "0  21.4382  Eine Armee, die ihre Auswirkungen auf die Biodiversität senkt   \n",
       "\n",
       "                                                                                                                   text  \\\n",
       "0  Der Bundesrat, insbesondere das Departement für Verteidigung, Bevölkerungsschutz und Sport (VBS), wird beauftragt...   \n",
       "\n",
       "                                                                                                                                                                          proposal  \n",
       "0  Das VBS hat seinen Aktionsplan Biodiversität am 22. Juni 2023 veröffentlicht [...] Der Bundesrat erachtet das Anliegen der Motion als erfüllt und beantragt deren Abschreibung.  "
      ]
     },
     "execution_count": 2,
     "metadata": {},
     "output_type": "execute_result"
    }
   ],
   "source": [
    "query_string = \"\"\"\n",
    "\n",
    "PREFIX chpaf: <https://ch.paf.link/>\n",
    "PREFIX prov: <http://www.w3.org/ns/prov#>\n",
    "PREFIX schema: <http://schema.org/>\n",
    "PREFIX xsd: <http://www.w3.org/2001/XMLSchema#>\n",
    "\n",
    "\n",
    "SELECT ?id ?title ?text ?proposal WHERE {\n",
    "\n",
    "    ?ProposalActivity prov:used \n",
    "        ?IdentifierEntity, \n",
    "        ?ProceduralRequestEntity, \n",
    "        ?ProposalEntity.\n",
    "\n",
    "    ?IdentifierEntity a chpaf:ParliamentaryAffairIdentifierEntity;\n",
    "        schema:identifier ?id.\n",
    "    \n",
    "    ?ProceduralRequestEntity a chpaf:ProceduralRequestEntity;\n",
    "        schema:title ?title;\n",
    "        schema:description ?text.\n",
    "    \n",
    "    ?ProposalEntity a chpaf:ProceduralRequestProposalEntity;\n",
    "        schema:description ?proposal.\n",
    "\n",
    "} \n",
    "\n",
    "\"\"\"\n",
    "\n",
    "qres = g.query(query_string)\n",
    "\n",
    "df = pd.DataFrame(qres, columns=qres.vars)\n",
    "df"
   ]
  },
  {
   "cell_type": "markdown",
   "metadata": {},
   "source": [
    "## Chapter 2 - Information on the Fulfilment Status"
   ]
  },
  {
   "cell_type": "code",
   "execution_count": 3,
   "metadata": {},
   "outputs": [
    {
     "data": {
      "text/html": [
       "<div>\n",
       "<style scoped>\n",
       "    .dataframe tbody tr th:only-of-type {\n",
       "        vertical-align: middle;\n",
       "    }\n",
       "\n",
       "    .dataframe tbody tr th {\n",
       "        vertical-align: top;\n",
       "    }\n",
       "\n",
       "    .dataframe thead th {\n",
       "        text-align: right;\n",
       "    }\n",
       "</style>\n",
       "<table border=\"1\" class=\"dataframe\">\n",
       "  <thead>\n",
       "    <tr style=\"text-align: right;\">\n",
       "      <th></th>\n",
       "      <th>id</th>\n",
       "      <th>title</th>\n",
       "      <th>text</th>\n",
       "      <th>information</th>\n",
       "    </tr>\n",
       "  </thead>\n",
       "  <tbody>\n",
       "    <tr>\n",
       "      <th>0</th>\n",
       "      <td>21.3877</td>\n",
       "      <td>Evaluation der Strukturreform BVG</td>\n",
       "      <td>Der Bundesrat wird beauftragt, die vor zehn Jahren in Kraft getretene Strukturreform BVG [...]</td>\n",
       "      <td>Die Forschungsarbeiten sind im Gang. Sie werden als Grundlage für den Bericht des Bundesrates dienen, der für die zweite Hälfte 2024 geplant ist.</td>\n",
       "    </tr>\n",
       "    <tr>\n",
       "      <th>1</th>\n",
       "      <td>21.3968</td>\n",
       "      <td>Zielerreichung der Strukturreform BVG evaluieren</td>\n",
       "      <td>Der Bundesrat wird beauftragt, die vor zehn Jahren in Kraft getretene Strukturreform BVG [...] Eine Minderheit der Kommission beantragt, das Postulat abzulehnen.</td>\n",
       "      <td>Die Forschungsarbeiten sind im Gang. Sie werden als Grundlage für den Bericht des Bundesrates dienen, der für die zweite Hälfte 2024 geplant ist.</td>\n",
       "    </tr>\n",
       "  </tbody>\n",
       "</table>\n",
       "</div>"
      ],
      "text/plain": [
       "        id                                             title  \\\n",
       "0  21.3877                 Evaluation der Strukturreform BVG   \n",
       "1  21.3968  Zielerreichung der Strukturreform BVG evaluieren   \n",
       "\n",
       "                                                                                                                                                                text  \\\n",
       "0                                                                     Der Bundesrat wird beauftragt, die vor zehn Jahren in Kraft getretene Strukturreform BVG [...]   \n",
       "1  Der Bundesrat wird beauftragt, die vor zehn Jahren in Kraft getretene Strukturreform BVG [...] Eine Minderheit der Kommission beantragt, das Postulat abzulehnen.   \n",
       "\n",
       "                                                                                                                                         information  \n",
       "0  Die Forschungsarbeiten sind im Gang. Sie werden als Grundlage für den Bericht des Bundesrates dienen, der für die zweite Hälfte 2024 geplant ist.  \n",
       "1  Die Forschungsarbeiten sind im Gang. Sie werden als Grundlage für den Bericht des Bundesrates dienen, der für die zweite Hälfte 2024 geplant ist.  "
      ]
     },
     "execution_count": 3,
     "metadata": {},
     "output_type": "execute_result"
    }
   ],
   "source": [
    "query_string = \"\"\"\n",
    "\n",
    "PREFIX chpaf: <https://ch.paf.link/>\n",
    "PREFIX prov: <http://www.w3.org/ns/prov#>\n",
    "PREFIX schema: <http://schema.org/>\n",
    "PREFIX xsd: <http://www.w3.org/2001/XMLSchema#>\n",
    "\n",
    "\n",
    "SELECT ?id ?title ?text ?information WHERE {\n",
    "\n",
    "    ?InformationActivity prov:used \n",
    "        ?IdentifierEntity, \n",
    "        ?ProceduralRequestEntity, \n",
    "        ?InformationEntity.\n",
    "\n",
    "    ?IdentifierEntity a chpaf:ParliamentaryAffairIdentifierEntity;\n",
    "        schema:identifier ?id.\n",
    "    \n",
    "    ?ProceduralRequestEntity a chpaf:ProceduralRequestEntity;\n",
    "        schema:title ?title;\n",
    "        schema:description ?text.\n",
    "    \n",
    "    ?InformationEntity a chpaf:ProceduralRequestInformationEntity;\n",
    "        schema:description ?information.\n",
    "\n",
    "} \n",
    "\n",
    "\"\"\"\n",
    "\n",
    "qres = g.query(query_string)\n",
    "\n",
    "df = pd.DataFrame(qres, columns=qres.vars)\n",
    "df"
   ]
  },
  {
   "cell_type": "markdown",
   "metadata": {},
   "source": [
    "## Connex Procedural Requests\n",
    "\n",
    "--> Does not work because symmetry does not allow to discern between `?main` and `?dep`"
   ]
  },
  {
   "cell_type": "code",
   "execution_count": 4,
   "metadata": {},
   "outputs": [
    {
     "data": {
      "text/html": [
       "<div>\n",
       "<style scoped>\n",
       "    .dataframe tbody tr th:only-of-type {\n",
       "        vertical-align: middle;\n",
       "    }\n",
       "\n",
       "    .dataframe tbody tr th {\n",
       "        vertical-align: top;\n",
       "    }\n",
       "\n",
       "    .dataframe thead th {\n",
       "        text-align: right;\n",
       "    }\n",
       "</style>\n",
       "<table border=\"1\" class=\"dataframe\">\n",
       "  <thead>\n",
       "    <tr style=\"text-align: right;\">\n",
       "      <th></th>\n",
       "      <th>main</th>\n",
       "      <th>dep</th>\n",
       "    </tr>\n",
       "  </thead>\n",
       "  <tbody>\n",
       "    <tr>\n",
       "      <th>0</th>\n",
       "      <td>21.3968</td>\n",
       "      <td>21.3877</td>\n",
       "    </tr>\n",
       "    <tr>\n",
       "      <th>1</th>\n",
       "      <td>21.3877</td>\n",
       "      <td>21.3968</td>\n",
       "    </tr>\n",
       "  </tbody>\n",
       "</table>\n",
       "</div>"
      ],
      "text/plain": [
       "      main      dep\n",
       "0  21.3968  21.3877\n",
       "1  21.3877  21.3968"
      ]
     },
     "execution_count": 4,
     "metadata": {},
     "output_type": "execute_result"
    }
   ],
   "source": [
    "query_string = \"\"\"\n",
    "\n",
    "PREFIX chpaf: <https://ch.paf.link/>\n",
    "PREFIX prov: <http://www.w3.org/ns/prov#>\n",
    "PREFIX schema: <http://schema.org/>\n",
    "PREFIX xsd: <http://www.w3.org/2001/XMLSchema#>\n",
    "\n",
    "\n",
    "SELECT ?main ?dep WHERE {\n",
    "\n",
    "    ?activity prov:used/schema:identifier ?dep;\n",
    "        prov:used/^prov:used/prov:used/schema:identifier ?main.\n",
    "\n",
    "    Filter(?main != ?dep)\n",
    "} \n",
    "\n",
    "\"\"\"\n",
    "\n",
    "qres = g.query(query_string)\n",
    "\n",
    "df = pd.DataFrame(qres, columns=qres.vars)\n",
    "df"
   ]
  },
  {
   "cell_type": "markdown",
   "metadata": {},
   "source": [
    "if class `chpaf:ConnexActivity` is added to the corresponding activity, the query is possible:"
   ]
  },
  {
   "cell_type": "code",
   "execution_count": 5,
   "metadata": {},
   "outputs": [
    {
     "data": {
      "text/html": [
       "<div>\n",
       "<style scoped>\n",
       "    .dataframe tbody tr th:only-of-type {\n",
       "        vertical-align: middle;\n",
       "    }\n",
       "\n",
       "    .dataframe tbody tr th {\n",
       "        vertical-align: top;\n",
       "    }\n",
       "\n",
       "    .dataframe thead th {\n",
       "        text-align: right;\n",
       "    }\n",
       "</style>\n",
       "<table border=\"1\" class=\"dataframe\">\n",
       "  <thead>\n",
       "    <tr style=\"text-align: right;\">\n",
       "      <th></th>\n",
       "      <th>main</th>\n",
       "      <th>dep</th>\n",
       "    </tr>\n",
       "  </thead>\n",
       "  <tbody>\n",
       "    <tr>\n",
       "      <th>0</th>\n",
       "      <td>21.3877</td>\n",
       "      <td>21.3968</td>\n",
       "    </tr>\n",
       "  </tbody>\n",
       "</table>\n",
       "</div>"
      ],
      "text/plain": [
       "      main      dep\n",
       "0  21.3877  21.3968"
      ]
     },
     "execution_count": 5,
     "metadata": {},
     "output_type": "execute_result"
    }
   ],
   "source": [
    "query_string = \"\"\"\n",
    "\n",
    "PREFIX chpaf: <https://ch.paf.link/>\n",
    "PREFIX prov: <http://www.w3.org/ns/prov#>\n",
    "PREFIX schema: <http://schema.org/>\n",
    "PREFIX xsd: <http://www.w3.org/2001/XMLSchema#>\n",
    "\n",
    "\n",
    "SELECT ?main ?dep WHERE {\n",
    "\n",
    "    ?activity a chpaf:ConnexActivity;\n",
    "        prov:used/schema:identifier ?dep;\n",
    "        prov:used/^prov:used/prov:used/schema:identifier ?main.\n",
    "\n",
    "    Filter(?main != ?dep)\n",
    "} \n",
    "\n",
    "\"\"\"\n",
    "\n",
    "qres = g.query(query_string)\n",
    "\n",
    "df = pd.DataFrame(qres, columns=qres.vars)\n",
    "df"
   ]
  }
 ],
 "metadata": {
  "kernelspec": {
   "display_name": "LD",
   "language": "python",
   "name": "python3"
  },
  "language_info": {
   "codemirror_mode": {
    "name": "ipython",
    "version": 3
   },
   "file_extension": ".py",
   "mimetype": "text/x-python",
   "name": "python",
   "nbconvert_exporter": "python",
   "pygments_lexer": "ipython3",
   "version": "3.12.4"
  }
 },
 "nbformat": 4,
 "nbformat_minor": 2
}
