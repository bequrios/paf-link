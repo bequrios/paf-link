{
 "cells": [
  {
   "cell_type": "markdown",
   "metadata": {},
   "source": [
    "# Transformation Between Formats\n",
    "\n",
    "## RDF to JSON-LD with Context"
   ]
  },
  {
   "cell_type": "code",
   "execution_count": 1,
   "metadata": {},
   "outputs": [],
   "source": [
    "from rdflib import Graph"
   ]
  },
  {
   "cell_type": "code",
   "execution_count": 8,
   "metadata": {},
   "outputs": [],
   "source": [
    "context = {\n",
    "\n",
    "    \"prov\": \"http://www.w3.org/ns/prov#\",\n",
    "    \"schema\": \"http://schema.org/\",\n",
    "    \"rdf\": \"http://www.w3.org/1999/02/22-rdf-syntax-ns#\",\n",
    "    \"dcterms\": \"http://purl.org/dc/terms/\",\n",
    "    \"paf\": \"https://paf.link/\",\n",
    "    \"chpaf\": \"https://ch.paf.link/\",\n",
    "    \"example\": \"https://example.com/\",\n",
    "    \"identifier\": \"http://schema.org/identifier\",\n",
    "    \"name\": \"http://schema.org/name\",\n",
    "    \"description\": \"http://schema.org/description\",\n",
    "    \"qualifiedAssociation\": {\n",
    "        \"@id\": \"http://www.w3.org/ns/prov#qualifiedAssociation\"\n",
    "    },\n",
    "    \"agent\": {\n",
    "        \"@id\": \"http://www.w3.org/ns/prov#agent\",\n",
    "        \"@type\": \"@id\"\n",
    "    },\n",
    "    \"hadRole\": {\n",
    "        \"@id\": \"http://www.w3.org/ns/prov#hadRole\",\n",
    "        \"@type\": \"@id\"\n",
    "    },\n",
    "    \"used\": {\n",
    "        \"@id\": \"http://www.w3.org/ns/prov#used\",\n",
    "        \"@type\": \"@id\"\n",
    "    },\n",
    "    \"wasInformedBy\": {\n",
    "        \"@id\": \"http://www.w3.org/ns/prov#wasInformedBy\",\n",
    "        \"@type\": \"@id\"\n",
    "    },\n",
    "    \"startedAtTime\": {\n",
    "        \"@id\": \"http://www.w3.org/ns/prov#startedAtTime\",\n",
    "        \"@type\": \"http://www.w3.org/2001/XMLSchema#dateTime\"\n",
    "    },\n",
    "    \"wasGeneratedBy\": {\n",
    "        \"@id\": \"http://www.w3.org/ns/prov#wasGeneratedBy\",\n",
    "        \"@type\": \"@id\"\n",
    "    },\n",
    "    \"predicate\": {\n",
    "        \"@id\": \"http://www.w3.org/1999/02/22-rdf-syntax-ns#predicate\",\n",
    "        \"@type\": \"@id\"\n",
    "    },\n",
    "    \"meta\": {\n",
    "        \"@id\": \"https://paf.link/meta\",\n",
    "        \"@type\": \"@id\"\n",
    "    },\n",
    "    \"proposal\": {\n",
    "        \"@id\": \"https://ch.paf.link/proposal\",\n",
    "        \"@type\": \"@id\"\n",
    "    },\n",
    "    \"hasPart\": {\n",
    "        \"@id\": \"http://purl.org/dc/terms/hasPart\",\n",
    "        \"@type\": \"@id\"\n",
    "    },\n",
    "    \"decision\": {\n",
    "        \"@id\": \"https://paf.link/decision\",\n",
    "        \"@type\": \"@id\"\n",
    "    },\n",
    "    \"voteNo\": {\n",
    "        \"@id\": \"https://paf.link/voteNo\",\n",
    "        \"@type\": \"http://www.w3.org/2001/XMLSchema#integer\"\n",
    "    },\n",
    "    \"voteYes\": {\n",
    "        \"@id\": \"https://paf.link/voteYes\",\n",
    "        \"@type\": \"http://www.w3.org/2001/XMLSchema#integer\"\n",
    "    }\n",
    "}"
   ]
  },
  {
   "cell_type": "code",
   "execution_count": 9,
   "metadata": {},
   "outputs": [],
   "source": [
    "file = \"mopo_chapter_1_22_p5_1\"\n",
    "\n",
    "g = Graph()\n",
    "g.parse(\"../examples/\" + file + \".ttl\")\n",
    "\n",
    "v = g.serialize(format=\"json-ld\", context=context)\n",
    "\n",
    "with open(\"../examples/\" + file + \".jsonld\", 'w', encoding = \"utf-8\") as ttl_file:\n",
    "        ttl_file.write(v)"
   ]
  }
 ],
 "metadata": {
  "kernelspec": {
   "display_name": "LD",
   "language": "python",
   "name": "python3"
  },
  "language_info": {
   "codemirror_mode": {
    "name": "ipython",
    "version": 3
   },
   "file_extension": ".py",
   "mimetype": "text/x-python",
   "name": "python",
   "nbconvert_exporter": "python",
   "pygments_lexer": "ipython3",
   "version": "3.9.12"
  }
 },
 "nbformat": 4,
 "nbformat_minor": 2
}
