{
 "cells": [
  {
   "cell_type": "markdown",
   "metadata": {},
   "source": [
    "# Transformation Between Formats\n",
    "\n",
    "## RDF to JSON-LD with Context"
   ]
  },
  {
   "cell_type": "code",
   "execution_count": 4,
   "metadata": {},
   "outputs": [],
   "source": [
    "from rdflib import Graph"
   ]
  },
  {
   "cell_type": "markdown",
   "metadata": {},
   "source": [
    "## Parse TTL File"
   ]
  },
  {
   "cell_type": "code",
   "execution_count": 7,
   "metadata": {},
   "outputs": [
    {
     "data": {
      "text/plain": [
       "<Graph identifier=Nd81a075e896142ee8435696bd289142f (<class 'rdflib.graph.Graph'>)>"
      ]
     },
     "execution_count": 7,
     "metadata": {},
     "output_type": "execute_result"
    }
   ],
   "source": [
    "file = \"design_principles_basic\"\n",
    "\n",
    "g = Graph()\n",
    "g.parse(\"../examples/\" + file + \".ttl\")"
   ]
  },
  {
   "cell_type": "markdown",
   "metadata": {},
   "source": [
    "## Create Bare JSON-LD Without Using Context and Frames"
   ]
  },
  {
   "cell_type": "code",
   "execution_count": 8,
   "metadata": {},
   "outputs": [
    {
     "data": {
      "text/plain": [
       "<Graph identifier=Nd81a075e896142ee8435696bd289142f (<class 'rdflib.graph.Graph'>)>"
      ]
     },
     "execution_count": 8,
     "metadata": {},
     "output_type": "execute_result"
    }
   ],
   "source": [
    "g.serialize(format=\"json-ld\", destination=\"../examples/\" + file + \".jsonld\")"
   ]
  },
  {
   "cell_type": "markdown",
   "metadata": {},
   "source": [
    "## Using Context and Frames\n",
    "\n",
    "rdflib seems to have some proplems with JSON-LD and therefore we try [PyLD](https://github.com/digitalbazaar/pyld), see:\n",
    "\n",
    "- https://github.com/RDFLib/rdflib-jsonld/issues/93\n",
    "- https://github.com/RDFLib/rdflib/issues/2308\n",
    "- https://github.com/RDFLib/rdflib/issues/2823"
   ]
  },
  {
   "cell_type": "code",
   "execution_count": 25,
   "metadata": {},
   "outputs": [],
   "source": [
    "from pyld import jsonld\n",
    "import json\n",
    "\n",
    "with open(\"../examples/\" + file + \".jsonld\") as f:\n",
    "    graph = f.read()\n",
    "\n",
    "graph = json.loads(graph)\n",
    "\n",
    "with open(\"../examples/\" + file + \"_context.jsonld\") as f:\n",
    "    context = f.read()\n",
    "\n",
    "context = json.loads(context)"
   ]
  },
  {
   "cell_type": "markdown",
   "metadata": {},
   "source": [
    "### Flattened"
   ]
  },
  {
   "cell_type": "code",
   "execution_count": 26,
   "metadata": {},
   "outputs": [],
   "source": [
    "flattened = jsonld.flatten(graph)\n",
    "\n",
    "with open(\"../examples/\" + file + \"_flattened.jsonld\", \"w\") as f:\n",
    "    f.write(json.dumps(flattened, indent=2))"
   ]
  },
  {
   "cell_type": "markdown",
   "metadata": {},
   "source": [
    "### Compacted"
   ]
  },
  {
   "cell_type": "code",
   "execution_count": 27,
   "metadata": {},
   "outputs": [],
   "source": [
    "compacted = jsonld.compact(graph, context)\n",
    "\n",
    "with open(\"../examples/\" + file + \"_compacted.jsonld\", \"w\") as f:\n",
    "    f.write(json.dumps(compacted, indent=2))"
   ]
  }
 ],
 "metadata": {
  "kernelspec": {
   "display_name": "LD",
   "language": "python",
   "name": "python3"
  },
  "language_info": {
   "codemirror_mode": {
    "name": "ipython",
    "version": 3
   },
   "file_extension": ".py",
   "mimetype": "text/x-python",
   "name": "python",
   "nbconvert_exporter": "python",
   "pygments_lexer": "ipython3",
   "version": "3.9.19"
  }
 },
 "nbformat": 4,
 "nbformat_minor": 2
}
